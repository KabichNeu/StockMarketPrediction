{
  "nbformat": 4,
  "nbformat_minor": 0,
  "metadata": {
    "colab": {
      "name": "nabildatamining.ipynb",
      "provenance": [],
      "authorship_tag": "ABX9TyPgtBX4PpaHqcJPjBI63vQX",
      "include_colab_link": true
    },
    "kernelspec": {
      "name": "python3",
      "display_name": "Python 3"
    }
  },
  "cells": [
    {
      "cell_type": "markdown",
      "metadata": {
        "id": "view-in-github",
        "colab_type": "text"
      },
      "source": [
        "<a href=\"https://colab.research.google.com/github/KabichNeu/StockMarketPrediction/blob/master/nabildatamining.ipynb\" target=\"_parent\"><img src=\"https://colab.research.google.com/assets/colab-badge.svg\" alt=\"Open In Colab\"/></a>"
      ]
    },
    {
      "cell_type": "code",
      "metadata": {
        "id": "ilL6pn9wZsJy",
        "colab_type": "code",
        "colab": {
          "base_uri": "https://localhost:8080/",
          "height": 122
        },
        "outputId": "9222e2a1-308d-489e-8a63-0f945f31f748"
      },
      "source": [
        "from google.colab import drive\n",
        "drive.mount('/content/gdrive')"
      ],
      "execution_count": null,
      "outputs": [
        {
          "output_type": "stream",
          "text": [
            "Go to this URL in a browser: https://accounts.google.com/o/oauth2/auth?client_id=947318989803-6bn6qk8qdgf4n4g3pfee6491hc0brc4i.apps.googleusercontent.com&redirect_uri=urn%3aietf%3awg%3aoauth%3a2.0%3aoob&response_type=code&scope=email%20https%3a%2f%2fwww.googleapis.com%2fauth%2fdocs.test%20https%3a%2f%2fwww.googleapis.com%2fauth%2fdrive%20https%3a%2f%2fwww.googleapis.com%2fauth%2fdrive.photos.readonly%20https%3a%2f%2fwww.googleapis.com%2fauth%2fpeopleapi.readonly\n",
            "\n",
            "Enter your authorization code:\n",
            "··········\n",
            "Mounted at /content/gdrive\n"
          ],
          "name": "stdout"
        }
      ]
    },
    {
      "cell_type": "code",
      "metadata": {
        "id": "KndCxZClZy4L",
        "colab_type": "code",
        "colab": {}
      },
      "source": [
        "import os\n",
        "os.environ['KAGGLE_CONFIG_DIR'] = \"/content/gdrive/My Drive/Kaggle\""
      ],
      "execution_count": null,
      "outputs": []
    },
    {
      "cell_type": "code",
      "metadata": {
        "id": "nRNVKdq4Z8b9",
        "colab_type": "code",
        "colab": {
          "base_uri": "https://localhost:8080/",
          "height": 34
        },
        "outputId": "4a9c8f71-45a5-42ce-dfaa-affdfcd0b88b"
      },
      "source": [
        "%cd /content/gdrive/My Drive/Kaggle"
      ],
      "execution_count": null,
      "outputs": [
        {
          "output_type": "stream",
          "text": [
            "/content/gdrive/My Drive/Kaggle\n"
          ],
          "name": "stdout"
        }
      ]
    },
    {
      "cell_type": "code",
      "metadata": {
        "id": "UBBDYMdaZ-SW",
        "colab_type": "code",
        "colab": {
          "base_uri": "https://localhost:8080/",
          "height": 35
        },
        "outputId": "9c45e103-92e9-4e83-d5f6-12ef3e42fc6f"
      },
      "source": [
        "pwd"
      ],
      "execution_count": null,
      "outputs": [
        {
          "output_type": "execute_result",
          "data": {
            "application/vnd.google.colaboratory.intrinsic": {
              "type": "string"
            },
            "text/plain": [
              "'/content/gdrive/My Drive/Kaggle'"
            ]
          },
          "metadata": {
            "tags": []
          },
          "execution_count": 4
        }
      ]
    },
    {
      "cell_type": "code",
      "metadata": {
        "id": "gOE697HvaBAR",
        "colab_type": "code",
        "colab": {
          "base_uri": "https://localhost:8080/",
          "height": 34
        },
        "outputId": "c7170834-8a97-4372-ffa7-3a9c65de45ca"
      },
      "source": [
        "!ls\n"
      ],
      "execution_count": null,
      "outputs": [
        {
          "output_type": "stream",
          "text": [
            " kaggle.json  'Nepali_Stock_Market _Data__2012-2020'   OHLC.csv\n"
          ],
          "name": "stdout"
        }
      ]
    },
    {
      "cell_type": "code",
      "metadata": {
        "id": "_Rz5gxlSaD5S",
        "colab_type": "code",
        "colab": {
          "base_uri": "https://localhost:8080/",
          "height": 419
        },
        "outputId": "df10858a-02c9-4040-b376-c4aa3c6df7a2"
      },
      "source": [
        "import pandas as pd\n",
        "import numpy as np\n",
        "from scipy import sparse\n",
        "raw_data = pd.read_csv('OHLC.csv')\n",
        "raw_data.head(200)"
      ],
      "execution_count": null,
      "outputs": [
        {
          "output_type": "execute_result",
          "data": {
            "text/html": [
              "<div>\n",
              "<style scoped>\n",
              "    .dataframe tbody tr th:only-of-type {\n",
              "        vertical-align: middle;\n",
              "    }\n",
              "\n",
              "    .dataframe tbody tr th {\n",
              "        vertical-align: top;\n",
              "    }\n",
              "\n",
              "    .dataframe thead th {\n",
              "        text-align: right;\n",
              "    }\n",
              "</style>\n",
              "<table border=\"1\" class=\"dataframe\">\n",
              "  <thead>\n",
              "    <tr style=\"text-align: right;\">\n",
              "      <th></th>\n",
              "      <th>S.no</th>\n",
              "      <th>Symbol</th>\n",
              "      <th>Date</th>\n",
              "      <th>Open</th>\n",
              "      <th>High</th>\n",
              "      <th>Low</th>\n",
              "      <th>Close</th>\n",
              "      <th>Vol</th>\n",
              "    </tr>\n",
              "  </thead>\n",
              "  <tbody>\n",
              "    <tr>\n",
              "      <th>0</th>\n",
              "      <td>0</td>\n",
              "      <td>ACEDBL</td>\n",
              "      <td>2012-01-01.csv</td>\n",
              "      <td>114.0</td>\n",
              "      <td>113.0</td>\n",
              "      <td>112.0</td>\n",
              "      <td>113.0</td>\n",
              "      <td>1,962</td>\n",
              "    </tr>\n",
              "    <tr>\n",
              "      <th>1</th>\n",
              "      <td>1</td>\n",
              "      <td>ACEDPO</td>\n",
              "      <td>2012-01-01.csv</td>\n",
              "      <td>188.0</td>\n",
              "      <td>114.0</td>\n",
              "      <td>114.0</td>\n",
              "      <td>114.0</td>\n",
              "      <td>10,000</td>\n",
              "    </tr>\n",
              "    <tr>\n",
              "      <th>2</th>\n",
              "      <td>2</td>\n",
              "      <td>ADBL</td>\n",
              "      <td>2012-01-01.csv</td>\n",
              "      <td>115.0</td>\n",
              "      <td>115.0</td>\n",
              "      <td>113.0</td>\n",
              "      <td>114.0</td>\n",
              "      <td>1,111</td>\n",
              "    </tr>\n",
              "    <tr>\n",
              "      <th>3</th>\n",
              "      <td>3</td>\n",
              "      <td>AHPC</td>\n",
              "      <td>2012-01-01.csv</td>\n",
              "      <td>319.0</td>\n",
              "      <td>319.0</td>\n",
              "      <td>312.0</td>\n",
              "      <td>312.0</td>\n",
              "      <td>377</td>\n",
              "    </tr>\n",
              "    <tr>\n",
              "      <th>4</th>\n",
              "      <td>4</td>\n",
              "      <td>ALDBL</td>\n",
              "      <td>2012-01-01.csv</td>\n",
              "      <td>102.0</td>\n",
              "      <td>101.0</td>\n",
              "      <td>101.0</td>\n",
              "      <td>101.0</td>\n",
              "      <td>30</td>\n",
              "    </tr>\n",
              "    <tr>\n",
              "      <th>...</th>\n",
              "      <td>...</td>\n",
              "      <td>...</td>\n",
              "      <td>...</td>\n",
              "      <td>...</td>\n",
              "      <td>...</td>\n",
              "      <td>...</td>\n",
              "      <td>...</td>\n",
              "      <td>...</td>\n",
              "    </tr>\n",
              "    <tr>\n",
              "      <th>195</th>\n",
              "      <td>44</td>\n",
              "      <td>NCM</td>\n",
              "      <td>2012-01-03.csv</td>\n",
              "      <td>179.0</td>\n",
              "      <td>181.0</td>\n",
              "      <td>170.0</td>\n",
              "      <td>170.0</td>\n",
              "      <td>2,515</td>\n",
              "    </tr>\n",
              "    <tr>\n",
              "      <th>196</th>\n",
              "      <td>45</td>\n",
              "      <td>NDEP</td>\n",
              "      <td>2012-01-03.csv</td>\n",
              "      <td>85.0</td>\n",
              "      <td>87.0</td>\n",
              "      <td>85.0</td>\n",
              "      <td>85.0</td>\n",
              "      <td>512</td>\n",
              "    </tr>\n",
              "    <tr>\n",
              "      <th>197</th>\n",
              "      <td>46</td>\n",
              "      <td>NHPC</td>\n",
              "      <td>2012-01-03.csv</td>\n",
              "      <td>50.0</td>\n",
              "      <td>51.0</td>\n",
              "      <td>50.0</td>\n",
              "      <td>51.0</td>\n",
              "      <td>3,110</td>\n",
              "    </tr>\n",
              "    <tr>\n",
              "      <th>198</th>\n",
              "      <td>47</td>\n",
              "      <td>NIB</td>\n",
              "      <td>2012-01-03.csv</td>\n",
              "      <td>407.0</td>\n",
              "      <td>424.0</td>\n",
              "      <td>408.0</td>\n",
              "      <td>408.0</td>\n",
              "      <td>1,439</td>\n",
              "    </tr>\n",
              "    <tr>\n",
              "      <th>199</th>\n",
              "      <td>48</td>\n",
              "      <td>NICB</td>\n",
              "      <td>2012-01-03.csv</td>\n",
              "      <td>417.0</td>\n",
              "      <td>428.0</td>\n",
              "      <td>413.0</td>\n",
              "      <td>414.0</td>\n",
              "      <td>2,425</td>\n",
              "    </tr>\n",
              "  </tbody>\n",
              "</table>\n",
              "<p>200 rows × 8 columns</p>\n",
              "</div>"
            ],
            "text/plain": [
              "     S.no  Symbol            Date   Open   High    Low  Close     Vol\n",
              "0       0  ACEDBL  2012-01-01.csv  114.0  113.0  112.0  113.0   1,962\n",
              "1       1  ACEDPO  2012-01-01.csv  188.0  114.0  114.0  114.0  10,000\n",
              "2       2    ADBL  2012-01-01.csv  115.0  115.0  113.0  114.0   1,111\n",
              "3       3    AHPC  2012-01-01.csv  319.0  319.0  312.0  312.0     377\n",
              "4       4   ALDBL  2012-01-01.csv  102.0  101.0  101.0  101.0      30\n",
              "..    ...     ...             ...    ...    ...    ...    ...     ...\n",
              "195    44     NCM  2012-01-03.csv  179.0  181.0  170.0  170.0   2,515\n",
              "196    45    NDEP  2012-01-03.csv   85.0   87.0   85.0   85.0     512\n",
              "197    46    NHPC  2012-01-03.csv   50.0   51.0   50.0   51.0   3,110\n",
              "198    47     NIB  2012-01-03.csv  407.0  424.0  408.0  408.0   1,439\n",
              "199    48    NICB  2012-01-03.csv  417.0  428.0  413.0  414.0   2,425\n",
              "\n",
              "[200 rows x 8 columns]"
            ]
          },
          "metadata": {
            "tags": []
          },
          "execution_count": 6
        }
      ]
    },
    {
      "cell_type": "code",
      "metadata": {
        "id": "_XltVyDaaGiV",
        "colab_type": "code",
        "colab": {}
      },
      "source": [
        "stock_data = raw_data.drop(['S.no'],axis=1)\n"
      ],
      "execution_count": null,
      "outputs": []
    },
    {
      "cell_type": "code",
      "metadata": {
        "id": "Sen7hlx7aJye",
        "colab_type": "code",
        "colab": {
          "base_uri": "https://localhost:8080/",
          "height": 419
        },
        "outputId": "5a6f5c38-6c9b-4ae2-c369-3e5adb63b76b"
      },
      "source": [
        "stock_data"
      ],
      "execution_count": null,
      "outputs": [
        {
          "output_type": "execute_result",
          "data": {
            "text/html": [
              "<div>\n",
              "<style scoped>\n",
              "    .dataframe tbody tr th:only-of-type {\n",
              "        vertical-align: middle;\n",
              "    }\n",
              "\n",
              "    .dataframe tbody tr th {\n",
              "        vertical-align: top;\n",
              "    }\n",
              "\n",
              "    .dataframe thead th {\n",
              "        text-align: right;\n",
              "    }\n",
              "</style>\n",
              "<table border=\"1\" class=\"dataframe\">\n",
              "  <thead>\n",
              "    <tr style=\"text-align: right;\">\n",
              "      <th></th>\n",
              "      <th>Symbol</th>\n",
              "      <th>Date</th>\n",
              "      <th>Open</th>\n",
              "      <th>High</th>\n",
              "      <th>Low</th>\n",
              "      <th>Close</th>\n",
              "      <th>Vol</th>\n",
              "    </tr>\n",
              "  </thead>\n",
              "  <tbody>\n",
              "    <tr>\n",
              "      <th>0</th>\n",
              "      <td>ACEDBL</td>\n",
              "      <td>2012-01-01.csv</td>\n",
              "      <td>114.0</td>\n",
              "      <td>113.0</td>\n",
              "      <td>112.0</td>\n",
              "      <td>113.0</td>\n",
              "      <td>1,962</td>\n",
              "    </tr>\n",
              "    <tr>\n",
              "      <th>1</th>\n",
              "      <td>ACEDPO</td>\n",
              "      <td>2012-01-01.csv</td>\n",
              "      <td>188.0</td>\n",
              "      <td>114.0</td>\n",
              "      <td>114.0</td>\n",
              "      <td>114.0</td>\n",
              "      <td>10,000</td>\n",
              "    </tr>\n",
              "    <tr>\n",
              "      <th>2</th>\n",
              "      <td>ADBL</td>\n",
              "      <td>2012-01-01.csv</td>\n",
              "      <td>115.0</td>\n",
              "      <td>115.0</td>\n",
              "      <td>113.0</td>\n",
              "      <td>114.0</td>\n",
              "      <td>1,111</td>\n",
              "    </tr>\n",
              "    <tr>\n",
              "      <th>3</th>\n",
              "      <td>AHPC</td>\n",
              "      <td>2012-01-01.csv</td>\n",
              "      <td>319.0</td>\n",
              "      <td>319.0</td>\n",
              "      <td>312.0</td>\n",
              "      <td>312.0</td>\n",
              "      <td>377</td>\n",
              "    </tr>\n",
              "    <tr>\n",
              "      <th>4</th>\n",
              "      <td>ALDBL</td>\n",
              "      <td>2012-01-01.csv</td>\n",
              "      <td>102.0</td>\n",
              "      <td>101.0</td>\n",
              "      <td>101.0</td>\n",
              "      <td>101.0</td>\n",
              "      <td>30</td>\n",
              "    </tr>\n",
              "    <tr>\n",
              "      <th>...</th>\n",
              "      <td>...</td>\n",
              "      <td>...</td>\n",
              "      <td>...</td>\n",
              "      <td>...</td>\n",
              "      <td>...</td>\n",
              "      <td>...</td>\n",
              "      <td>...</td>\n",
              "    </tr>\n",
              "    <tr>\n",
              "      <th>250896</th>\n",
              "      <td>TRH</td>\n",
              "      <td>2020-03-22.csv</td>\n",
              "      <td>206.0</td>\n",
              "      <td>206.0</td>\n",
              "      <td>202.0</td>\n",
              "      <td>206.0</td>\n",
              "      <td>1,575</td>\n",
              "    </tr>\n",
              "    <tr>\n",
              "      <th>250897</th>\n",
              "      <td>UIC</td>\n",
              "      <td>2020-03-22.csv</td>\n",
              "      <td>313.0</td>\n",
              "      <td>313.0</td>\n",
              "      <td>301.0</td>\n",
              "      <td>307.0</td>\n",
              "      <td>636</td>\n",
              "    </tr>\n",
              "    <tr>\n",
              "      <th>250898</th>\n",
              "      <td>UMHL</td>\n",
              "      <td>2020-03-22.csv</td>\n",
              "      <td>100.0</td>\n",
              "      <td>100.0</td>\n",
              "      <td>100.0</td>\n",
              "      <td>100.0</td>\n",
              "      <td>519</td>\n",
              "    </tr>\n",
              "    <tr>\n",
              "      <th>250899</th>\n",
              "      <td>UPCL</td>\n",
              "      <td>2020-03-22.csv</td>\n",
              "      <td>73.0</td>\n",
              "      <td>73.0</td>\n",
              "      <td>73.0</td>\n",
              "      <td>73.0</td>\n",
              "      <td>10</td>\n",
              "    </tr>\n",
              "    <tr>\n",
              "      <th>250900</th>\n",
              "      <td>UPPER</td>\n",
              "      <td>2020-03-22.csv</td>\n",
              "      <td>230.0</td>\n",
              "      <td>230.0</td>\n",
              "      <td>225.0</td>\n",
              "      <td>227.0</td>\n",
              "      <td>2,893</td>\n",
              "    </tr>\n",
              "  </tbody>\n",
              "</table>\n",
              "<p>250901 rows × 7 columns</p>\n",
              "</div>"
            ],
            "text/plain": [
              "        Symbol            Date   Open   High    Low  Close     Vol\n",
              "0       ACEDBL  2012-01-01.csv  114.0  113.0  112.0  113.0   1,962\n",
              "1       ACEDPO  2012-01-01.csv  188.0  114.0  114.0  114.0  10,000\n",
              "2         ADBL  2012-01-01.csv  115.0  115.0  113.0  114.0   1,111\n",
              "3         AHPC  2012-01-01.csv  319.0  319.0  312.0  312.0     377\n",
              "4        ALDBL  2012-01-01.csv  102.0  101.0  101.0  101.0      30\n",
              "...        ...             ...    ...    ...    ...    ...     ...\n",
              "250896     TRH  2020-03-22.csv  206.0  206.0  202.0  206.0   1,575\n",
              "250897     UIC  2020-03-22.csv  313.0  313.0  301.0  307.0     636\n",
              "250898    UMHL  2020-03-22.csv  100.0  100.0  100.0  100.0     519\n",
              "250899    UPCL  2020-03-22.csv   73.0   73.0   73.0   73.0      10\n",
              "250900   UPPER  2020-03-22.csv  230.0  230.0  225.0  227.0   2,893\n",
              "\n",
              "[250901 rows x 7 columns]"
            ]
          },
          "metadata": {
            "tags": []
          },
          "execution_count": 8
        }
      ]
    },
    {
      "cell_type": "code",
      "metadata": {
        "id": "eCeWxQDkaNW0",
        "colab_type": "code",
        "colab": {}
      },
      "source": [
        "stock_data.set_index(\"Symbol\", inplace = True)\n",
        "nabil_data = stock_data.loc['NABIL']"
      ],
      "execution_count": null,
      "outputs": []
    },
    {
      "cell_type": "code",
      "metadata": {
        "id": "Xu3A3JU9aRnK",
        "colab_type": "code",
        "colab": {
          "base_uri": "https://localhost:8080/",
          "height": 450
        },
        "outputId": "885e767b-b652-4f0b-c158-014a34fa323f"
      },
      "source": [
        "nabil_data"
      ],
      "execution_count": null,
      "outputs": [
        {
          "output_type": "execute_result",
          "data": {
            "text/html": [
              "<div>\n",
              "<style scoped>\n",
              "    .dataframe tbody tr th:only-of-type {\n",
              "        vertical-align: middle;\n",
              "    }\n",
              "\n",
              "    .dataframe tbody tr th {\n",
              "        vertical-align: top;\n",
              "    }\n",
              "\n",
              "    .dataframe thead th {\n",
              "        text-align: right;\n",
              "    }\n",
              "</style>\n",
              "<table border=\"1\" class=\"dataframe\">\n",
              "  <thead>\n",
              "    <tr style=\"text-align: right;\">\n",
              "      <th></th>\n",
              "      <th>Date</th>\n",
              "      <th>Open</th>\n",
              "      <th>High</th>\n",
              "      <th>Low</th>\n",
              "      <th>Close</th>\n",
              "      <th>Vol</th>\n",
              "    </tr>\n",
              "    <tr>\n",
              "      <th>Symbol</th>\n",
              "      <th></th>\n",
              "      <th></th>\n",
              "      <th></th>\n",
              "      <th></th>\n",
              "      <th></th>\n",
              "      <th></th>\n",
              "    </tr>\n",
              "  </thead>\n",
              "  <tbody>\n",
              "    <tr>\n",
              "      <th>NABIL</th>\n",
              "      <td>2012-01-01.csv</td>\n",
              "      <td>873.0</td>\n",
              "      <td>879.0</td>\n",
              "      <td>851.0</td>\n",
              "      <td>879.0</td>\n",
              "      <td>799</td>\n",
              "    </tr>\n",
              "    <tr>\n",
              "      <th>NABIL</th>\n",
              "      <td>2012-01-02.csv</td>\n",
              "      <td>879.0</td>\n",
              "      <td>913.0</td>\n",
              "      <td>882.0</td>\n",
              "      <td>900.0</td>\n",
              "      <td>1,002</td>\n",
              "    </tr>\n",
              "    <tr>\n",
              "      <th>NABIL</th>\n",
              "      <td>2012-01-03.csv</td>\n",
              "      <td>900.0</td>\n",
              "      <td>916.0</td>\n",
              "      <td>892.0</td>\n",
              "      <td>892.0</td>\n",
              "      <td>2,653</td>\n",
              "    </tr>\n",
              "    <tr>\n",
              "      <th>NABIL</th>\n",
              "      <td>2012-01-04.csv</td>\n",
              "      <td>892.0</td>\n",
              "      <td>875.0</td>\n",
              "      <td>842.0</td>\n",
              "      <td>865.0</td>\n",
              "      <td>490</td>\n",
              "    </tr>\n",
              "    <tr>\n",
              "      <th>NABIL</th>\n",
              "      <td>2012-01-05.csv</td>\n",
              "      <td>865.0</td>\n",
              "      <td>875.0</td>\n",
              "      <td>858.0</td>\n",
              "      <td>858.0</td>\n",
              "      <td>121</td>\n",
              "    </tr>\n",
              "    <tr>\n",
              "      <th>...</th>\n",
              "      <td>...</td>\n",
              "      <td>...</td>\n",
              "      <td>...</td>\n",
              "      <td>...</td>\n",
              "      <td>...</td>\n",
              "      <td>...</td>\n",
              "    </tr>\n",
              "    <tr>\n",
              "      <th>NABIL</th>\n",
              "      <td>2020-03-16.csv</td>\n",
              "      <td>741.0</td>\n",
              "      <td>764.0</td>\n",
              "      <td>723.0</td>\n",
              "      <td>750.0</td>\n",
              "      <td>55,501</td>\n",
              "    </tr>\n",
              "    <tr>\n",
              "      <th>NABIL</th>\n",
              "      <td>2020-03-17.csv</td>\n",
              "      <td>765.0</td>\n",
              "      <td>765.0</td>\n",
              "      <td>721.0</td>\n",
              "      <td>731.0</td>\n",
              "      <td>46,620</td>\n",
              "    </tr>\n",
              "    <tr>\n",
              "      <th>NABIL</th>\n",
              "      <td>2020-03-18.csv</td>\n",
              "      <td>731.0</td>\n",
              "      <td>739.0</td>\n",
              "      <td>700.0</td>\n",
              "      <td>715.0</td>\n",
              "      <td>43,913</td>\n",
              "    </tr>\n",
              "    <tr>\n",
              "      <th>NABIL</th>\n",
              "      <td>2020-03-19.csv</td>\n",
              "      <td>701.0</td>\n",
              "      <td>740.0</td>\n",
              "      <td>690.0</td>\n",
              "      <td>730.0</td>\n",
              "      <td>55,806</td>\n",
              "    </tr>\n",
              "    <tr>\n",
              "      <th>NABIL</th>\n",
              "      <td>2020-03-22.csv</td>\n",
              "      <td>744.0</td>\n",
              "      <td>744.0</td>\n",
              "      <td>700.0</td>\n",
              "      <td>701.0</td>\n",
              "      <td>15,101</td>\n",
              "    </tr>\n",
              "  </tbody>\n",
              "</table>\n",
              "<p>1910 rows × 6 columns</p>\n",
              "</div>"
            ],
            "text/plain": [
              "                  Date   Open   High    Low  Close     Vol\n",
              "Symbol                                                    \n",
              "NABIL   2012-01-01.csv  873.0  879.0  851.0  879.0     799\n",
              "NABIL   2012-01-02.csv  879.0  913.0  882.0  900.0   1,002\n",
              "NABIL   2012-01-03.csv  900.0  916.0  892.0  892.0   2,653\n",
              "NABIL   2012-01-04.csv  892.0  875.0  842.0  865.0     490\n",
              "NABIL   2012-01-05.csv  865.0  875.0  858.0  858.0     121\n",
              "...                ...    ...    ...    ...    ...     ...\n",
              "NABIL   2020-03-16.csv  741.0  764.0  723.0  750.0  55,501\n",
              "NABIL   2020-03-17.csv  765.0  765.0  721.0  731.0  46,620\n",
              "NABIL   2020-03-18.csv  731.0  739.0  700.0  715.0  43,913\n",
              "NABIL   2020-03-19.csv  701.0  740.0  690.0  730.0  55,806\n",
              "NABIL   2020-03-22.csv  744.0  744.0  700.0  701.0  15,101\n",
              "\n",
              "[1910 rows x 6 columns]"
            ]
          },
          "metadata": {
            "tags": []
          },
          "execution_count": 10
        }
      ]
    },
    {
      "cell_type": "code",
      "metadata": {
        "id": "_HLtLVE9aT5d",
        "colab_type": "code",
        "colab": {
          "base_uri": "https://localhost:8080/",
          "height": 34
        },
        "outputId": "1e80acf7-4a52-4950-d0d5-af0f5838f909"
      },
      "source": [
        "nabil_data['Date'].dtype"
      ],
      "execution_count": null,
      "outputs": [
        {
          "output_type": "execute_result",
          "data": {
            "text/plain": [
              "dtype('O')"
            ]
          },
          "metadata": {
            "tags": []
          },
          "execution_count": 11
        }
      ]
    },
    {
      "cell_type": "code",
      "metadata": {
        "id": "xHjtFKweaW-3",
        "colab_type": "code",
        "colab": {
          "base_uri": "https://localhost:8080/",
          "height": 102
        },
        "outputId": "f5a5459d-baf4-498c-a243-9a91d830af76"
      },
      "source": [
        "nabil_data['Date'].replace('.csv','', regex=True, inplace=True)"
      ],
      "execution_count": null,
      "outputs": [
        {
          "output_type": "stream",
          "text": [
            "/usr/local/lib/python3.6/dist-packages/pandas/core/generic.py:6746: SettingWithCopyWarning: \n",
            "A value is trying to be set on a copy of a slice from a DataFrame\n",
            "\n",
            "See the caveats in the documentation: https://pandas.pydata.org/pandas-docs/stable/user_guide/indexing.html#returning-a-view-versus-a-copy\n",
            "  self._update_inplace(new_data)\n"
          ],
          "name": "stderr"
        }
      ]
    },
    {
      "cell_type": "code",
      "metadata": {
        "id": "75a7UX0TabmJ",
        "colab_type": "code",
        "colab": {
          "base_uri": "https://localhost:8080/",
          "height": 238
        },
        "outputId": "fd0b68a7-33cf-47af-a531-9fe0bb7b1af3"
      },
      "source": [
        "nabil_data['Date']"
      ],
      "execution_count": null,
      "outputs": [
        {
          "output_type": "execute_result",
          "data": {
            "text/plain": [
              "Symbol\n",
              "NABIL    2012-01-01\n",
              "NABIL    2012-01-02\n",
              "NABIL    2012-01-03\n",
              "NABIL    2012-01-04\n",
              "NABIL    2012-01-05\n",
              "            ...    \n",
              "NABIL    2020-03-16\n",
              "NABIL    2020-03-17\n",
              "NABIL    2020-03-18\n",
              "NABIL    2020-03-19\n",
              "NABIL    2020-03-22\n",
              "Name: Date, Length: 1910, dtype: object"
            ]
          },
          "metadata": {
            "tags": []
          },
          "execution_count": 13
        }
      ]
    },
    {
      "cell_type": "code",
      "metadata": {
        "id": "Ws-nPZLWafI5",
        "colab_type": "code",
        "colab": {
          "base_uri": "https://localhost:8080/",
          "height": 119
        },
        "outputId": "91b1b035-4e68-4805-d903-fee789ddaf02"
      },
      "source": [
        "import datetime\n",
        "nabil_data['Date'] = pd.to_datetime(nabil_data['Date'],infer_datetime_format= True)"
      ],
      "execution_count": null,
      "outputs": [
        {
          "output_type": "stream",
          "text": [
            "/usr/local/lib/python3.6/dist-packages/ipykernel_launcher.py:2: SettingWithCopyWarning: \n",
            "A value is trying to be set on a copy of a slice from a DataFrame.\n",
            "Try using .loc[row_indexer,col_indexer] = value instead\n",
            "\n",
            "See the caveats in the documentation: https://pandas.pydata.org/pandas-docs/stable/user_guide/indexing.html#returning-a-view-versus-a-copy\n",
            "  \n"
          ],
          "name": "stderr"
        }
      ]
    },
    {
      "cell_type": "code",
      "metadata": {
        "id": "fduIn194aiad",
        "colab_type": "code",
        "colab": {
          "base_uri": "https://localhost:8080/",
          "height": 450
        },
        "outputId": "dee15f1d-d342-4592-c091-ffcad745e1c1"
      },
      "source": [
        "nabil_data"
      ],
      "execution_count": null,
      "outputs": [
        {
          "output_type": "execute_result",
          "data": {
            "text/html": [
              "<div>\n",
              "<style scoped>\n",
              "    .dataframe tbody tr th:only-of-type {\n",
              "        vertical-align: middle;\n",
              "    }\n",
              "\n",
              "    .dataframe tbody tr th {\n",
              "        vertical-align: top;\n",
              "    }\n",
              "\n",
              "    .dataframe thead th {\n",
              "        text-align: right;\n",
              "    }\n",
              "</style>\n",
              "<table border=\"1\" class=\"dataframe\">\n",
              "  <thead>\n",
              "    <tr style=\"text-align: right;\">\n",
              "      <th></th>\n",
              "      <th>Date</th>\n",
              "      <th>Open</th>\n",
              "      <th>High</th>\n",
              "      <th>Low</th>\n",
              "      <th>Close</th>\n",
              "      <th>Vol</th>\n",
              "    </tr>\n",
              "    <tr>\n",
              "      <th>Symbol</th>\n",
              "      <th></th>\n",
              "      <th></th>\n",
              "      <th></th>\n",
              "      <th></th>\n",
              "      <th></th>\n",
              "      <th></th>\n",
              "    </tr>\n",
              "  </thead>\n",
              "  <tbody>\n",
              "    <tr>\n",
              "      <th>NABIL</th>\n",
              "      <td>2012-01-01</td>\n",
              "      <td>873.0</td>\n",
              "      <td>879.0</td>\n",
              "      <td>851.0</td>\n",
              "      <td>879.0</td>\n",
              "      <td>799</td>\n",
              "    </tr>\n",
              "    <tr>\n",
              "      <th>NABIL</th>\n",
              "      <td>2012-01-02</td>\n",
              "      <td>879.0</td>\n",
              "      <td>913.0</td>\n",
              "      <td>882.0</td>\n",
              "      <td>900.0</td>\n",
              "      <td>1,002</td>\n",
              "    </tr>\n",
              "    <tr>\n",
              "      <th>NABIL</th>\n",
              "      <td>2012-01-03</td>\n",
              "      <td>900.0</td>\n",
              "      <td>916.0</td>\n",
              "      <td>892.0</td>\n",
              "      <td>892.0</td>\n",
              "      <td>2,653</td>\n",
              "    </tr>\n",
              "    <tr>\n",
              "      <th>NABIL</th>\n",
              "      <td>2012-01-04</td>\n",
              "      <td>892.0</td>\n",
              "      <td>875.0</td>\n",
              "      <td>842.0</td>\n",
              "      <td>865.0</td>\n",
              "      <td>490</td>\n",
              "    </tr>\n",
              "    <tr>\n",
              "      <th>NABIL</th>\n",
              "      <td>2012-01-05</td>\n",
              "      <td>865.0</td>\n",
              "      <td>875.0</td>\n",
              "      <td>858.0</td>\n",
              "      <td>858.0</td>\n",
              "      <td>121</td>\n",
              "    </tr>\n",
              "    <tr>\n",
              "      <th>...</th>\n",
              "      <td>...</td>\n",
              "      <td>...</td>\n",
              "      <td>...</td>\n",
              "      <td>...</td>\n",
              "      <td>...</td>\n",
              "      <td>...</td>\n",
              "    </tr>\n",
              "    <tr>\n",
              "      <th>NABIL</th>\n",
              "      <td>2020-03-16</td>\n",
              "      <td>741.0</td>\n",
              "      <td>764.0</td>\n",
              "      <td>723.0</td>\n",
              "      <td>750.0</td>\n",
              "      <td>55,501</td>\n",
              "    </tr>\n",
              "    <tr>\n",
              "      <th>NABIL</th>\n",
              "      <td>2020-03-17</td>\n",
              "      <td>765.0</td>\n",
              "      <td>765.0</td>\n",
              "      <td>721.0</td>\n",
              "      <td>731.0</td>\n",
              "      <td>46,620</td>\n",
              "    </tr>\n",
              "    <tr>\n",
              "      <th>NABIL</th>\n",
              "      <td>2020-03-18</td>\n",
              "      <td>731.0</td>\n",
              "      <td>739.0</td>\n",
              "      <td>700.0</td>\n",
              "      <td>715.0</td>\n",
              "      <td>43,913</td>\n",
              "    </tr>\n",
              "    <tr>\n",
              "      <th>NABIL</th>\n",
              "      <td>2020-03-19</td>\n",
              "      <td>701.0</td>\n",
              "      <td>740.0</td>\n",
              "      <td>690.0</td>\n",
              "      <td>730.0</td>\n",
              "      <td>55,806</td>\n",
              "    </tr>\n",
              "    <tr>\n",
              "      <th>NABIL</th>\n",
              "      <td>2020-03-22</td>\n",
              "      <td>744.0</td>\n",
              "      <td>744.0</td>\n",
              "      <td>700.0</td>\n",
              "      <td>701.0</td>\n",
              "      <td>15,101</td>\n",
              "    </tr>\n",
              "  </tbody>\n",
              "</table>\n",
              "<p>1910 rows × 6 columns</p>\n",
              "</div>"
            ],
            "text/plain": [
              "             Date   Open   High    Low  Close     Vol\n",
              "Symbol                                               \n",
              "NABIL  2012-01-01  873.0  879.0  851.0  879.0     799\n",
              "NABIL  2012-01-02  879.0  913.0  882.0  900.0   1,002\n",
              "NABIL  2012-01-03  900.0  916.0  892.0  892.0   2,653\n",
              "NABIL  2012-01-04  892.0  875.0  842.0  865.0     490\n",
              "NABIL  2012-01-05  865.0  875.0  858.0  858.0     121\n",
              "...           ...    ...    ...    ...    ...     ...\n",
              "NABIL  2020-03-16  741.0  764.0  723.0  750.0  55,501\n",
              "NABIL  2020-03-17  765.0  765.0  721.0  731.0  46,620\n",
              "NABIL  2020-03-18  731.0  739.0  700.0  715.0  43,913\n",
              "NABIL  2020-03-19  701.0  740.0  690.0  730.0  55,806\n",
              "NABIL  2020-03-22  744.0  744.0  700.0  701.0  15,101\n",
              "\n",
              "[1910 rows x 6 columns]"
            ]
          },
          "metadata": {
            "tags": []
          },
          "execution_count": 15
        }
      ]
    },
    {
      "cell_type": "code",
      "metadata": {
        "id": "-210hUYGapAj",
        "colab_type": "code",
        "colab": {
          "base_uri": "https://localhost:8080/",
          "height": 34
        },
        "outputId": "7ac0d6d6-9c60-4db1-8c65-d6ddb32be19a"
      },
      "source": [
        "nabil_data['Date'].dtype"
      ],
      "execution_count": null,
      "outputs": [
        {
          "output_type": "execute_result",
          "data": {
            "text/plain": [
              "dtype('<M8[ns]')"
            ]
          },
          "metadata": {
            "tags": []
          },
          "execution_count": 17
        }
      ]
    },
    {
      "cell_type": "code",
      "metadata": {
        "id": "5m2CWKmmavPZ",
        "colab_type": "code",
        "colab": {}
      },
      "source": [
        "nabil_data = nabil_data.reset_index()"
      ],
      "execution_count": null,
      "outputs": []
    },
    {
      "cell_type": "code",
      "metadata": {
        "id": "PbSi3PP2b8z2",
        "colab_type": "code",
        "colab": {
          "base_uri": "https://localhost:8080/",
          "height": 419
        },
        "outputId": "b8fa9a29-1a0f-416b-9767-eb9b830a6f89"
      },
      "source": [
        "nabil_data"
      ],
      "execution_count": null,
      "outputs": [
        {
          "output_type": "execute_result",
          "data": {
            "text/html": [
              "<div>\n",
              "<style scoped>\n",
              "    .dataframe tbody tr th:only-of-type {\n",
              "        vertical-align: middle;\n",
              "    }\n",
              "\n",
              "    .dataframe tbody tr th {\n",
              "        vertical-align: top;\n",
              "    }\n",
              "\n",
              "    .dataframe thead th {\n",
              "        text-align: right;\n",
              "    }\n",
              "</style>\n",
              "<table border=\"1\" class=\"dataframe\">\n",
              "  <thead>\n",
              "    <tr style=\"text-align: right;\">\n",
              "      <th></th>\n",
              "      <th>Symbol</th>\n",
              "      <th>Date</th>\n",
              "      <th>Open</th>\n",
              "      <th>High</th>\n",
              "      <th>Low</th>\n",
              "      <th>Close</th>\n",
              "      <th>Vol</th>\n",
              "    </tr>\n",
              "  </thead>\n",
              "  <tbody>\n",
              "    <tr>\n",
              "      <th>0</th>\n",
              "      <td>NABIL</td>\n",
              "      <td>2012-01-01</td>\n",
              "      <td>873.0</td>\n",
              "      <td>879.0</td>\n",
              "      <td>851.0</td>\n",
              "      <td>879.0</td>\n",
              "      <td>799</td>\n",
              "    </tr>\n",
              "    <tr>\n",
              "      <th>1</th>\n",
              "      <td>NABIL</td>\n",
              "      <td>2012-01-02</td>\n",
              "      <td>879.0</td>\n",
              "      <td>913.0</td>\n",
              "      <td>882.0</td>\n",
              "      <td>900.0</td>\n",
              "      <td>1,002</td>\n",
              "    </tr>\n",
              "    <tr>\n",
              "      <th>2</th>\n",
              "      <td>NABIL</td>\n",
              "      <td>2012-01-03</td>\n",
              "      <td>900.0</td>\n",
              "      <td>916.0</td>\n",
              "      <td>892.0</td>\n",
              "      <td>892.0</td>\n",
              "      <td>2,653</td>\n",
              "    </tr>\n",
              "    <tr>\n",
              "      <th>3</th>\n",
              "      <td>NABIL</td>\n",
              "      <td>2012-01-04</td>\n",
              "      <td>892.0</td>\n",
              "      <td>875.0</td>\n",
              "      <td>842.0</td>\n",
              "      <td>865.0</td>\n",
              "      <td>490</td>\n",
              "    </tr>\n",
              "    <tr>\n",
              "      <th>4</th>\n",
              "      <td>NABIL</td>\n",
              "      <td>2012-01-05</td>\n",
              "      <td>865.0</td>\n",
              "      <td>875.0</td>\n",
              "      <td>858.0</td>\n",
              "      <td>858.0</td>\n",
              "      <td>121</td>\n",
              "    </tr>\n",
              "    <tr>\n",
              "      <th>...</th>\n",
              "      <td>...</td>\n",
              "      <td>...</td>\n",
              "      <td>...</td>\n",
              "      <td>...</td>\n",
              "      <td>...</td>\n",
              "      <td>...</td>\n",
              "      <td>...</td>\n",
              "    </tr>\n",
              "    <tr>\n",
              "      <th>1905</th>\n",
              "      <td>NABIL</td>\n",
              "      <td>2020-03-16</td>\n",
              "      <td>741.0</td>\n",
              "      <td>764.0</td>\n",
              "      <td>723.0</td>\n",
              "      <td>750.0</td>\n",
              "      <td>55,501</td>\n",
              "    </tr>\n",
              "    <tr>\n",
              "      <th>1906</th>\n",
              "      <td>NABIL</td>\n",
              "      <td>2020-03-17</td>\n",
              "      <td>765.0</td>\n",
              "      <td>765.0</td>\n",
              "      <td>721.0</td>\n",
              "      <td>731.0</td>\n",
              "      <td>46,620</td>\n",
              "    </tr>\n",
              "    <tr>\n",
              "      <th>1907</th>\n",
              "      <td>NABIL</td>\n",
              "      <td>2020-03-18</td>\n",
              "      <td>731.0</td>\n",
              "      <td>739.0</td>\n",
              "      <td>700.0</td>\n",
              "      <td>715.0</td>\n",
              "      <td>43,913</td>\n",
              "    </tr>\n",
              "    <tr>\n",
              "      <th>1908</th>\n",
              "      <td>NABIL</td>\n",
              "      <td>2020-03-19</td>\n",
              "      <td>701.0</td>\n",
              "      <td>740.0</td>\n",
              "      <td>690.0</td>\n",
              "      <td>730.0</td>\n",
              "      <td>55,806</td>\n",
              "    </tr>\n",
              "    <tr>\n",
              "      <th>1909</th>\n",
              "      <td>NABIL</td>\n",
              "      <td>2020-03-22</td>\n",
              "      <td>744.0</td>\n",
              "      <td>744.0</td>\n",
              "      <td>700.0</td>\n",
              "      <td>701.0</td>\n",
              "      <td>15,101</td>\n",
              "    </tr>\n",
              "  </tbody>\n",
              "</table>\n",
              "<p>1910 rows × 7 columns</p>\n",
              "</div>"
            ],
            "text/plain": [
              "     Symbol       Date   Open   High    Low  Close     Vol\n",
              "0     NABIL 2012-01-01  873.0  879.0  851.0  879.0     799\n",
              "1     NABIL 2012-01-02  879.0  913.0  882.0  900.0   1,002\n",
              "2     NABIL 2012-01-03  900.0  916.0  892.0  892.0   2,653\n",
              "3     NABIL 2012-01-04  892.0  875.0  842.0  865.0     490\n",
              "4     NABIL 2012-01-05  865.0  875.0  858.0  858.0     121\n",
              "...     ...        ...    ...    ...    ...    ...     ...\n",
              "1905  NABIL 2020-03-16  741.0  764.0  723.0  750.0  55,501\n",
              "1906  NABIL 2020-03-17  765.0  765.0  721.0  731.0  46,620\n",
              "1907  NABIL 2020-03-18  731.0  739.0  700.0  715.0  43,913\n",
              "1908  NABIL 2020-03-19  701.0  740.0  690.0  730.0  55,806\n",
              "1909  NABIL 2020-03-22  744.0  744.0  700.0  701.0  15,101\n",
              "\n",
              "[1910 rows x 7 columns]"
            ]
          },
          "metadata": {
            "tags": []
          },
          "execution_count": 19
        }
      ]
    },
    {
      "cell_type": "code",
      "metadata": {
        "id": "FwZqQ328b-Zz",
        "colab_type": "code",
        "colab": {}
      },
      "source": [
        "nabil_data = nabil_data.drop(['Symbol'], axis = 1)"
      ],
      "execution_count": null,
      "outputs": []
    },
    {
      "cell_type": "code",
      "metadata": {
        "id": "JiZt4DI8cHiB",
        "colab_type": "code",
        "colab": {
          "base_uri": "https://localhost:8080/",
          "height": 419
        },
        "outputId": "487b9f04-a832-47a6-ec76-bcd8be6cd914"
      },
      "source": [
        "nabil_data"
      ],
      "execution_count": null,
      "outputs": [
        {
          "output_type": "execute_result",
          "data": {
            "text/html": [
              "<div>\n",
              "<style scoped>\n",
              "    .dataframe tbody tr th:only-of-type {\n",
              "        vertical-align: middle;\n",
              "    }\n",
              "\n",
              "    .dataframe tbody tr th {\n",
              "        vertical-align: top;\n",
              "    }\n",
              "\n",
              "    .dataframe thead th {\n",
              "        text-align: right;\n",
              "    }\n",
              "</style>\n",
              "<table border=\"1\" class=\"dataframe\">\n",
              "  <thead>\n",
              "    <tr style=\"text-align: right;\">\n",
              "      <th></th>\n",
              "      <th>Date</th>\n",
              "      <th>Open</th>\n",
              "      <th>High</th>\n",
              "      <th>Low</th>\n",
              "      <th>Close</th>\n",
              "      <th>Vol</th>\n",
              "    </tr>\n",
              "  </thead>\n",
              "  <tbody>\n",
              "    <tr>\n",
              "      <th>0</th>\n",
              "      <td>2012-01-01</td>\n",
              "      <td>873.0</td>\n",
              "      <td>879.0</td>\n",
              "      <td>851.0</td>\n",
              "      <td>879.0</td>\n",
              "      <td>799</td>\n",
              "    </tr>\n",
              "    <tr>\n",
              "      <th>1</th>\n",
              "      <td>2012-01-02</td>\n",
              "      <td>879.0</td>\n",
              "      <td>913.0</td>\n",
              "      <td>882.0</td>\n",
              "      <td>900.0</td>\n",
              "      <td>1,002</td>\n",
              "    </tr>\n",
              "    <tr>\n",
              "      <th>2</th>\n",
              "      <td>2012-01-03</td>\n",
              "      <td>900.0</td>\n",
              "      <td>916.0</td>\n",
              "      <td>892.0</td>\n",
              "      <td>892.0</td>\n",
              "      <td>2,653</td>\n",
              "    </tr>\n",
              "    <tr>\n",
              "      <th>3</th>\n",
              "      <td>2012-01-04</td>\n",
              "      <td>892.0</td>\n",
              "      <td>875.0</td>\n",
              "      <td>842.0</td>\n",
              "      <td>865.0</td>\n",
              "      <td>490</td>\n",
              "    </tr>\n",
              "    <tr>\n",
              "      <th>4</th>\n",
              "      <td>2012-01-05</td>\n",
              "      <td>865.0</td>\n",
              "      <td>875.0</td>\n",
              "      <td>858.0</td>\n",
              "      <td>858.0</td>\n",
              "      <td>121</td>\n",
              "    </tr>\n",
              "    <tr>\n",
              "      <th>...</th>\n",
              "      <td>...</td>\n",
              "      <td>...</td>\n",
              "      <td>...</td>\n",
              "      <td>...</td>\n",
              "      <td>...</td>\n",
              "      <td>...</td>\n",
              "    </tr>\n",
              "    <tr>\n",
              "      <th>1905</th>\n",
              "      <td>2020-03-16</td>\n",
              "      <td>741.0</td>\n",
              "      <td>764.0</td>\n",
              "      <td>723.0</td>\n",
              "      <td>750.0</td>\n",
              "      <td>55,501</td>\n",
              "    </tr>\n",
              "    <tr>\n",
              "      <th>1906</th>\n",
              "      <td>2020-03-17</td>\n",
              "      <td>765.0</td>\n",
              "      <td>765.0</td>\n",
              "      <td>721.0</td>\n",
              "      <td>731.0</td>\n",
              "      <td>46,620</td>\n",
              "    </tr>\n",
              "    <tr>\n",
              "      <th>1907</th>\n",
              "      <td>2020-03-18</td>\n",
              "      <td>731.0</td>\n",
              "      <td>739.0</td>\n",
              "      <td>700.0</td>\n",
              "      <td>715.0</td>\n",
              "      <td>43,913</td>\n",
              "    </tr>\n",
              "    <tr>\n",
              "      <th>1908</th>\n",
              "      <td>2020-03-19</td>\n",
              "      <td>701.0</td>\n",
              "      <td>740.0</td>\n",
              "      <td>690.0</td>\n",
              "      <td>730.0</td>\n",
              "      <td>55,806</td>\n",
              "    </tr>\n",
              "    <tr>\n",
              "      <th>1909</th>\n",
              "      <td>2020-03-22</td>\n",
              "      <td>744.0</td>\n",
              "      <td>744.0</td>\n",
              "      <td>700.0</td>\n",
              "      <td>701.0</td>\n",
              "      <td>15,101</td>\n",
              "    </tr>\n",
              "  </tbody>\n",
              "</table>\n",
              "<p>1910 rows × 6 columns</p>\n",
              "</div>"
            ],
            "text/plain": [
              "           Date   Open   High    Low  Close     Vol\n",
              "0    2012-01-01  873.0  879.0  851.0  879.0     799\n",
              "1    2012-01-02  879.0  913.0  882.0  900.0   1,002\n",
              "2    2012-01-03  900.0  916.0  892.0  892.0   2,653\n",
              "3    2012-01-04  892.0  875.0  842.0  865.0     490\n",
              "4    2012-01-05  865.0  875.0  858.0  858.0     121\n",
              "...         ...    ...    ...    ...    ...     ...\n",
              "1905 2020-03-16  741.0  764.0  723.0  750.0  55,501\n",
              "1906 2020-03-17  765.0  765.0  721.0  731.0  46,620\n",
              "1907 2020-03-18  731.0  739.0  700.0  715.0  43,913\n",
              "1908 2020-03-19  701.0  740.0  690.0  730.0  55,806\n",
              "1909 2020-03-22  744.0  744.0  700.0  701.0  15,101\n",
              "\n",
              "[1910 rows x 6 columns]"
            ]
          },
          "metadata": {
            "tags": []
          },
          "execution_count": 23
        }
      ]
    },
    {
      "cell_type": "code",
      "metadata": {
        "id": "V0FhXLOrcP6m",
        "colab_type": "code",
        "colab": {
          "base_uri": "https://localhost:8080/",
          "height": 452
        },
        "outputId": "7e774c68-313d-4dbe-c854-ba8fed86df54"
      },
      "source": [
        "nabil_data.describe(include = 'all')"
      ],
      "execution_count": null,
      "outputs": [
        {
          "output_type": "execute_result",
          "data": {
            "text/html": [
              "<div>\n",
              "<style scoped>\n",
              "    .dataframe tbody tr th:only-of-type {\n",
              "        vertical-align: middle;\n",
              "    }\n",
              "\n",
              "    .dataframe tbody tr th {\n",
              "        vertical-align: top;\n",
              "    }\n",
              "\n",
              "    .dataframe thead th {\n",
              "        text-align: right;\n",
              "    }\n",
              "</style>\n",
              "<table border=\"1\" class=\"dataframe\">\n",
              "  <thead>\n",
              "    <tr style=\"text-align: right;\">\n",
              "      <th></th>\n",
              "      <th>Date</th>\n",
              "      <th>Open</th>\n",
              "      <th>High</th>\n",
              "      <th>Low</th>\n",
              "      <th>Close</th>\n",
              "      <th>Vol</th>\n",
              "    </tr>\n",
              "  </thead>\n",
              "  <tbody>\n",
              "    <tr>\n",
              "      <th>count</th>\n",
              "      <td>1910</td>\n",
              "      <td>1910.000000</td>\n",
              "      <td>1910.000000</td>\n",
              "      <td>1910.000000</td>\n",
              "      <td>1910.000000</td>\n",
              "      <td>1910</td>\n",
              "    </tr>\n",
              "    <tr>\n",
              "      <th>unique</th>\n",
              "      <td>1901</td>\n",
              "      <td>NaN</td>\n",
              "      <td>NaN</td>\n",
              "      <td>NaN</td>\n",
              "      <td>NaN</td>\n",
              "      <td>1757</td>\n",
              "    </tr>\n",
              "    <tr>\n",
              "      <th>top</th>\n",
              "      <td>2015-06-08 00:00:00</td>\n",
              "      <td>NaN</td>\n",
              "      <td>NaN</td>\n",
              "      <td>NaN</td>\n",
              "      <td>NaN</td>\n",
              "      <td>1,982</td>\n",
              "    </tr>\n",
              "    <tr>\n",
              "      <th>freq</th>\n",
              "      <td>3</td>\n",
              "      <td>NaN</td>\n",
              "      <td>NaN</td>\n",
              "      <td>NaN</td>\n",
              "      <td>NaN</td>\n",
              "      <td>3</td>\n",
              "    </tr>\n",
              "    <tr>\n",
              "      <th>first</th>\n",
              "      <td>2012-01-01 00:00:00</td>\n",
              "      <td>NaN</td>\n",
              "      <td>NaN</td>\n",
              "      <td>NaN</td>\n",
              "      <td>NaN</td>\n",
              "      <td>NaN</td>\n",
              "    </tr>\n",
              "    <tr>\n",
              "      <th>last</th>\n",
              "      <td>2020-03-22 00:00:00</td>\n",
              "      <td>NaN</td>\n",
              "      <td>NaN</td>\n",
              "      <td>NaN</td>\n",
              "      <td>NaN</td>\n",
              "      <td>NaN</td>\n",
              "    </tr>\n",
              "    <tr>\n",
              "      <th>mean</th>\n",
              "      <td>NaN</td>\n",
              "      <td>1538.958115</td>\n",
              "      <td>1555.184817</td>\n",
              "      <td>1522.249215</td>\n",
              "      <td>1539.656021</td>\n",
              "      <td>NaN</td>\n",
              "    </tr>\n",
              "    <tr>\n",
              "      <th>std</th>\n",
              "      <td>NaN</td>\n",
              "      <td>559.777683</td>\n",
              "      <td>568.388348</td>\n",
              "      <td>554.175755</td>\n",
              "      <td>561.606581</td>\n",
              "      <td>NaN</td>\n",
              "    </tr>\n",
              "    <tr>\n",
              "      <th>min</th>\n",
              "      <td>NaN</td>\n",
              "      <td>662.000000</td>\n",
              "      <td>669.000000</td>\n",
              "      <td>660.000000</td>\n",
              "      <td>667.000000</td>\n",
              "      <td>NaN</td>\n",
              "    </tr>\n",
              "    <tr>\n",
              "      <th>25%</th>\n",
              "      <td>NaN</td>\n",
              "      <td>955.000000</td>\n",
              "      <td>960.000000</td>\n",
              "      <td>944.000000</td>\n",
              "      <td>952.250000</td>\n",
              "      <td>NaN</td>\n",
              "    </tr>\n",
              "    <tr>\n",
              "      <th>50%</th>\n",
              "      <td>NaN</td>\n",
              "      <td>1570.000000</td>\n",
              "      <td>1585.000000</td>\n",
              "      <td>1550.000000</td>\n",
              "      <td>1572.000000</td>\n",
              "      <td>NaN</td>\n",
              "    </tr>\n",
              "    <tr>\n",
              "      <th>75%</th>\n",
              "      <td>NaN</td>\n",
              "      <td>1940.000000</td>\n",
              "      <td>1960.000000</td>\n",
              "      <td>1916.000000</td>\n",
              "      <td>1941.500000</td>\n",
              "      <td>NaN</td>\n",
              "    </tr>\n",
              "    <tr>\n",
              "      <th>max</th>\n",
              "      <td>NaN</td>\n",
              "      <td>2720.000000</td>\n",
              "      <td>2800.000000</td>\n",
              "      <td>2700.000000</td>\n",
              "      <td>2750.000000</td>\n",
              "      <td>NaN</td>\n",
              "    </tr>\n",
              "  </tbody>\n",
              "</table>\n",
              "</div>"
            ],
            "text/plain": [
              "                       Date         Open  ...        Close    Vol\n",
              "count                  1910  1910.000000  ...  1910.000000   1910\n",
              "unique                 1901          NaN  ...          NaN   1757\n",
              "top     2015-06-08 00:00:00          NaN  ...          NaN  1,982\n",
              "freq                      3          NaN  ...          NaN      3\n",
              "first   2012-01-01 00:00:00          NaN  ...          NaN    NaN\n",
              "last    2020-03-22 00:00:00          NaN  ...          NaN    NaN\n",
              "mean                    NaN  1538.958115  ...  1539.656021    NaN\n",
              "std                     NaN   559.777683  ...   561.606581    NaN\n",
              "min                     NaN   662.000000  ...   667.000000    NaN\n",
              "25%                     NaN   955.000000  ...   952.250000    NaN\n",
              "50%                     NaN  1570.000000  ...  1572.000000    NaN\n",
              "75%                     NaN  1940.000000  ...  1941.500000    NaN\n",
              "max                     NaN  2720.000000  ...  2750.000000    NaN\n",
              "\n",
              "[13 rows x 6 columns]"
            ]
          },
          "metadata": {
            "tags": []
          },
          "execution_count": 26
        }
      ]
    },
    {
      "cell_type": "code",
      "metadata": {
        "id": "yDdGOzyycb_g",
        "colab_type": "code",
        "colab": {
          "base_uri": "https://localhost:8080/",
          "height": 879
        },
        "outputId": "72356cad-dee1-493b-a5a0-78c0ab571293"
      },
      "source": [
        "%matplotlib inline\n",
        "import matplotlib.pyplot as plt\n",
        "nabil_data.hist(bins = 50, figsize = (20,15))\n",
        "plt.show()"
      ],
      "execution_count": null,
      "outputs": [
        {
          "output_type": "display_data",
          "data": {
            "image/png": "[encoded data removed]",
            "text/plain": [
              "<Figure size 1440x1080 with 4 Axes>"
            ]
          },
          "metadata": {
            "tags": [],
            "needs_background": "light"
          }
        }
      ]
    },
    {
      "cell_type": "code",
      "metadata": {
        "id": "kbCbx-pddH3e",
        "colab_type": "code",
        "colab": {}
      },
      "source": [
        "nabil_data.to_csv(r'/content/gdrive/My Drive/Kaggle/nabildata.csv', index = False)\n"
      ],
      "execution_count": null,
      "outputs": []
    },
    {
      "cell_type": "code",
      "metadata": {
        "id": "lFUT7pxZfo4c",
        "colab_type": "code",
        "colab": {
          "base_uri": "https://localhost:8080/",
          "height": 34
        },
        "outputId": "46901d91-7de9-46f1-acc9-05eebd5e888a"
      },
      "source": [
        "%cd /content/gdrive/My Drive/Kaggle"
      ],
      "execution_count": null,
      "outputs": [
        {
          "output_type": "stream",
          "text": [
            "/content/gdrive/My Drive/Kaggle\n"
          ],
          "name": "stdout"
        }
      ]
    },
    {
      "cell_type": "code",
      "metadata": {
        "id": "towM9tvsfxhb",
        "colab_type": "code",
        "colab": {
          "base_uri": "https://localhost:8080/",
          "height": 34
        },
        "outputId": "9736ea21-4af6-4efc-e70b-7afcdcbe0185"
      },
      "source": [
        "!ls"
      ],
      "execution_count": null,
      "outputs": [
        {
          "output_type": "stream",
          "text": [
            " kaggle.json   nabildata.csv  'Nepali_Stock_Market _Data__2012-2020'   OHLC.csv\n"
          ],
          "name": "stdout"
        }
      ]
    },
    {
      "cell_type": "code",
      "metadata": {
        "id": "aAE9tr-ofzQ7",
        "colab_type": "code",
        "colab": {}
      },
      "source": [
        ""
      ],
      "execution_count": null,
      "outputs": []
    }
  ]
}